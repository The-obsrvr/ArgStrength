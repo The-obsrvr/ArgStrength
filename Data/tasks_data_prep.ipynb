{
 "cells": [
  {
   "cell_type": "code",
   "execution_count": 1,
   "metadata": {},
   "outputs": [],
   "source": [
    "import numpy as np\n",
    "import pandas as pd\n",
    "import glob\n",
    "import matplotlib.pyplot as plt\n",
    "\n",
    "from sklearn.model_selection import train_test_split"
   ]
  },
  {
   "cell_type": "markdown",
   "metadata": {},
   "source": [
    "### Dataset prep for Task 1"
   ]
  },
  {
   "cell_type": "code",
   "execution_count": 5,
   "metadata": {},
   "outputs": [
    {
     "name": "stdout",
     "output_type": "stream",
     "text": [
      "20974\n",
      "3208\n",
      "6315\n"
     ]
    }
   ],
   "source": [
    "# gretz Dataset\n",
    "\n",
    "gretz = pd.read_csv(\"gretz/arg_quality_rank_30k.csv\", usecols=[\"argument\", \"topic\", \"set\", \"WA\"])\n",
    "gretz.rename(columns={\"WA\": \"rank\"}, inplace=True)\n",
    "\n",
    "# save gretz for future reference\n",
    "gretz.to_csv(\"gretz/gretz_complete_set.csv\", sep=\",\", columns=[\"rank\", \"argument\",\"topic\"], index=False)\n",
    "\n",
    "# split into the train-dev-test sets\n",
    "train_gretz = gretz[gretz[\"set\"] == \"train\"]\n",
    "dev_gretz = gretz[gretz[\"set\"] == \"dev\"]\n",
    "test_gretz = gretz[gretz[\"set\"] == \"test\"]\n",
    "\n",
    "print(len(train_gretz))\n",
    "print(len(dev_gretz))\n",
    "print(len(test_gretz))\n",
    "\n",
    "# prepare tab separated files that contain arg and WA scores\n",
    "\n",
    "train_gretz.to_csv(\"gretz/gretz_train.txt\", sep=\"\\t\", columns=[\"argument\", \"rank\"], index=False, header=False)\n",
    "dev_gretz.to_csv(\"gretz/gretz_dev.txt\", sep=\"\\t\", columns=[\"argument\", \"rank\"], index=False, header=False)\n",
    "test_gretz.to_csv(\"gretz/gretz_test.txt\", sep=\"\\t\", columns=[\"argument\", \"rank\"], index=False, header=False)\n",
    "\n",
    "# prepare gretz test set for toledo model but remove common topics\n",
    "test_gretz_without_common_topics = test_gretz.loc[~test_gretz[\"topic\"].isin([\"Social media brings more harm than good\"])]\n",
    "test_gretz_without_common_topics.to_csv(\"gretz/gretz_test_no_common_topics.txt\", sep=\"\\t\", columns=[\"argument\", \"rank\"], index=False, header=False)"
   ]
  },
  {
   "cell_type": "code",
   "execution_count": 6,
   "metadata": {},
   "outputs": [
    {
     "name": "stdout",
     "output_type": "stream",
     "text": [
      "4812\n",
      "254\n",
      "232\n"
     ]
    }
   ],
   "source": [
    "# toledo Dataset\n",
    "\n",
    "filenames = glob.glob(\"toledo/IBM-ArgQ-5.3kArgs/*.tsv\")\n",
    "\n",
    "complete_toledo = []\n",
    "for i, filename in enumerate(filenames):\n",
    "    data = pd.read_csv(filename, sep=\"\\t\", engine='python')\n",
    "    data[\"topic\"] = filename[25:-4]\n",
    "    complete_toledo.append(data)\n",
    "\n",
    "comp_toledo = pd.concat(complete_toledo)\n",
    "comp_toledo.reset_index(inplace=True, drop=True)\n",
    "\n",
    "# save the complete set for future reference\n",
    "comp_toledo.to_csv(\"toledo/toledo_complete_set.csv\", sep=\",\", columns=[\"rank\", \"argument\",\"topic\"], index=False)\n",
    "\n",
    "# prepare train, dev and test sets.\n",
    "\n",
    "toledo_test = comp_toledo.loc[comp_toledo[\"topic\"].isin([\"Flu-vaccination-should-be-mandatory-(PRO)\", \"Flu-vaccination-should-not-be-mandatory-(CON)\"])].reset_index(drop=True)\n",
    "toledo_training = comp_toledo.loc[~comp_toledo[\"topic\"].isin([\"Flu-vaccination-should-be-mandatory-(PRO)\", \"Flu-vaccination-should-not-be-mandatory-(CON)\"])].reset_index(drop=True)\n",
    "\n",
    "toledo_train, toledo_dev = train_test_split(toledo_training, test_size= 0.05, random_state = 42, shuffle=True)\n",
    "\n",
    "print(len(toledo_train))\n",
    "print(len(toledo_dev))\n",
    "print(len(toledo_test))\n",
    "\n",
    "toledo_train.to_csv(\"toledo/toledo_train.txt\", sep=\"\\t\", columns=[\"argument\", \"rank\"], index=False, header=False)\n",
    "toledo_dev.to_csv(\"toledo/toledo_dev.txt\", sep=\"\\t\", columns=[\"argument\", \"rank\"], index=False, header=False)\n",
    "toledo_test.to_csv(\"toledo/toledo_test.txt\", sep=\"\\t\", columns=[\"argument\", \"rank\"], index=False, header=False)\n"
   ]
  },
  {
   "cell_type": "code",
   "execution_count": 7,
   "metadata": {},
   "outputs": [
    {
     "name": "stdout",
     "output_type": "stream",
     "text": [
      "3595\n",
      "190\n",
      "1590\n"
     ]
    }
   ],
   "source": [
    "# swanson \n",
    "\n",
    "filenames = glob.glob(\"swanson/*means.csv\")\n",
    "\n",
    "complete_swanson = []\n",
    "for i, filename in enumerate(filenames):\n",
    "    data = pd.read_csv(filenames[i], usecols=['GoodSliderMean', 'Phrase.x'], engine='python')\n",
    "    data[\"topic\"] = filename[8:-17]\n",
    "    complete_swanson.append(data)\n",
    "\n",
    "comp_swanson = pd.concat(complete_swanson)\n",
    "comp_swanson.reset_index(inplace=True, drop=True)\n",
    "comp_swanson.rename(columns={\"GoodSliderMean\": \"rank\", \"Phrase.x\": \"argument\"}, inplace=True)\n",
    "\n",
    "# save comp_swanson for future reference\n",
    "comp_swanson.to_csv(\"swanson/swanson_complete_set.csv\", sep=\",\", columns=[\"rank\", \"argument\", \"topic\"], index=False)\n",
    "\n",
    "swanson_test = comp_swanson.loc[comp_swanson[\"topic\"] == \"gc\" ].reset_index(drop=True)\n",
    "swanson_training = comp_swanson[comp_swanson[\"topic\"] != \"gc\"].reset_index(drop=True)\n",
    "\n",
    "swanson_train, swanson_dev = train_test_split(swanson_training, test_size= 0.05, random_state = 42, shuffle=True)\n",
    "\n",
    "print(len(swanson_train))\n",
    "print(len(swanson_dev))\n",
    "print(len(swanson_test))\n",
    "\n",
    "swanson_train.to_csv(\"swanson/swanson_train.txt\", sep=\"\\t\", columns=[\"argument\", \"rank\"], index=False, header=False)\n",
    "swanson_dev.to_csv(\"swanson/swanson_dev.txt\", sep=\"\\t\", columns=[\"argument\", \"rank\"], index=False, header=False)\n",
    "swanson_test.to_csv(\"swanson/swanson_test.txt\", sep=\"\\t\", columns=[\"argument\", \"rank\"], index=False, header=False)"
   ]
  },
  {
   "cell_type": "code",
   "execution_count": 2,
   "metadata": {},
   "outputs": [
    {
     "name": "stdout",
     "output_type": "stream",
     "text": [
      "942\n",
      "50\n",
      "60\n"
     ]
    }
   ],
   "source": [
    "# ukprank\n",
    "\n",
    "filenames = glob.glob(\"habb/data/UKPConvArg1-Ranking-CSV/*.csv\")\n",
    "complete_ukprank = []\n",
    "for i, filename in enumerate(filenames):\n",
    "    data = pd.read_csv(filename, sep=\"\\t\")\n",
    "    data[\"topic\"] = filename[34:-4]\n",
    "    complete_ukprank.append(data)\n",
    "    \n",
    "comp_ukprank = pd.concat(complete_ukprank)\n",
    "comp_ukprank.reset_index(inplace=True, drop=True)\n",
    "comp_ukprank[\"rank_rev\"] = 1 - comp_ukprank[\"rank\"] \n",
    "comp_ukprank[\"rank_norm\"] = (comp_ukprank[\"rank_rev\"] - comp_ukprank[\"rank_rev\"].min())/(comp_ukprank[\"rank_rev\"].max() - comp_ukprank[\"rank_rev\"].min())\n",
    "comp_ukprank.rename(columns={\"#id\": \"id\", \"rank\": \"old_rank\", \"rank_norm\": \"rank\"}, inplace=True)\n",
    "\n",
    "# save comp_ukprank for future reference\n",
    "comp_ukprank.to_csv(\"habb/ukprank_complete_set.csv\", sep=\",\", columns=[\"rank\", \"argument\", \"topic\"], index=False)\n",
    "\n",
    "\n",
    "ukprank_test = comp_ukprank.loc[comp_ukprank[\"topic\"].isin([\"ban-plastic-water-bottles_no-bad-for-the-economy\", \"ban-plastic-water-bottles_yes-emergencies-only\"])].reset_index(drop=True)\n",
    "ukprank_training = comp_ukprank.loc[~comp_ukprank[\"topic\"].isin([\"ban-plastic-water-bottles_no-bad-for-the-economy\", \"ban-plastic-water-bottles_yes-emergencies-only\"])].reset_index(drop=True)\n",
    "\n",
    "ukprank_train, ukprank_dev = train_test_split(ukprank_training, test_size= 0.05, random_state = 42, shuffle=True)\n",
    "\n",
    "print(len(ukprank_train))\n",
    "print(len(ukprank_dev))\n",
    "print(len(ukprank_test))\n",
    "\n",
    "ukprank_train.to_csv(\"habb/ukprank_train.txt\", sep=\"\\t\", columns=[\"argument\", \"rank\"], index=False, header=False)\n",
    "ukprank_dev.to_csv(\"habb/ukprank_dev.txt\", sep=\"\\t\", columns=[\"argument\", \"rank\"], index=False, header=False)\n",
    "ukprank_test.to_csv(\"habb/ukprank_test.txt\", sep=\"\\t\", columns=[\"argument\", \"rank\"], index=False, header=False)\n"
   ]
  },
  {
   "cell_type": "markdown",
   "metadata": {},
   "source": [
    "### Dataset Prep for Task 2:"
   ]
  },
  {
   "cell_type": "code",
   "execution_count": 3,
   "metadata": {},
   "outputs": [],
   "source": [
    "loo_gretz_path = \"loo_gretz\"\n",
    "loo_ibm_path = \"loo_ibm\"\n",
    "loo_ukp_path = \"loo_ukp\"\n",
    "loo_swanson_path = \"loo_swanson\""
   ]
  },
  {
   "cell_type": "code",
   "execution_count": 4,
   "metadata": {},
   "outputs": [],
   "source": [
    "gretz = pd.read_csv(\"gretz/gretz_complete_set.csv\", sep=\",\")\n",
    "toledo = pd.read_csv(\"toledo/toledo_complete_set.csv\", sep=\",\")\n",
    "swanson = pd.read_csv(\"swanson/swanson_complete_set.csv\", sep=\",\")\n",
    "ukprank = pd.read_csv(\"habb/ukprank_complete_set.csv\", sep=\",\")"
   ]
  },
  {
   "cell_type": "code",
   "execution_count": 8,
   "metadata": {},
   "outputs": [
    {
     "name": "stdout",
     "output_type": "stream",
     "text": [
      "9350\n",
      "493\n"
     ]
    }
   ],
   "source": [
    "# leave gretz out\n",
    "frames = [swanson_train, swanson_dev, toledo_train, toledo_dev, ukprank_train, ukprank_dev]\n",
    "loo_gretz_training = pd.concat(frames,join='inner', ignore_index=True)\n",
    "\n",
    "loo_gretz_train, loo_gretz_dev = train_test_split(loo_gretz_training, test_size= 0.05, random_state = 42, shuffle=True)\n",
    "\n",
    "print(len(loo_gretz_train))\n",
    "print(len(loo_gretz_dev))\n",
    "\n",
    "loo_gretz_train.to_csv(\"loo_gretz_train.txt\", sep=\"\\t\", columns=[\"argument\", \"rank\"], index=False, header=False)\n",
    "loo_gretz_dev.to_csv(\"loo_gretz_dev.txt\", sep=\"\\t\", columns=[\"argument\", \"rank\"], index=False, header=False)"
   ]
  },
  {
   "cell_type": "code",
   "execution_count": 9,
   "metadata": {},
   "outputs": [
    {
     "name": "stdout",
     "output_type": "stream",
     "text": [
      "27511\n",
      "1448\n"
     ]
    }
   ],
   "source": [
    "# leave toledo out\n",
    "frames = [swanson_train, swanson_dev, train_gretz, dev_gretz, ukprank_train, ukprank_dev]\n",
    "loo_toledo_training = pd.concat(frames,join='inner', ignore_index=True)\n",
    "\n",
    "loo_toledo_train, loo_toledo_dev = train_test_split(loo_toledo_training, test_size= 0.05, random_state = 42, shuffle=True)\n",
    "\n",
    "print(len(loo_toledo_train))\n",
    "print(len(loo_toledo_dev))\n",
    "\n",
    "loo_toledo_train.to_csv(\"loo_toledo_train.txt\", sep=\"\\t\", columns=[\"argument\", \"rank\"], index=False, header=False)\n",
    "loo_toledo_dev.to_csv(\"loo_toledo_dev.txt\", sep=\"\\t\", columns=[\"argument\", \"rank\"], index=False, header=False)"
   ]
  },
  {
   "cell_type": "code",
   "execution_count": 10,
   "metadata": {},
   "outputs": [],
   "source": [
    "# remove common topics from gretz datasets\n",
    "\n",
    "gretz_train_no_common_topics = train_gretz.loc[~train_gretz[\"topic\"].isin(['Social media brings more harm than good', 'We should stop the development of autonomous cars'])]\n",
    "gretz_dev_no_common_topics = dev_gretz.loc[~dev_gretz[\"topic\"].isin(['Social media brings more harm than good', 'We should stop the development of autonomous cars'])]"
   ]
  },
  {
   "cell_type": "code",
   "execution_count": 11,
   "metadata": {},
   "outputs": [
    {
     "name": "stdout",
     "output_type": "stream",
     "text": [
      "28304\n",
      "1490\n"
     ]
    }
   ],
   "source": [
    "# leave swanson out\n",
    "frames = [toledo_train, toledo_dev, gretz_train_no_common_topics, gretz_dev_no_common_topics, ukprank_train, ukprank_dev]\n",
    "loo_swanson_training = pd.concat(frames,join='inner', ignore_index=True)\n",
    "\n",
    "loo_swanson_train, loo_swanson_dev = train_test_split(loo_swanson_training, test_size= 0.05, random_state = 42, shuffle=True)\n",
    "\n",
    "print(len(loo_swanson_train))\n",
    "print(len(loo_swanson_dev))\n",
    "\n",
    "loo_swanson_train.to_csv(\"loo_swanson_train.txt\", sep=\"\\t\", columns=[\"argument\", \"rank\"], index=False, header=False)\n",
    "loo_swanson_dev.to_csv(\"loo_swanson_dev.txt\", sep=\"\\t\", columns=[\"argument\", \"rank\"], index=False, header=False)"
   ]
  },
  {
   "cell_type": "code",
   "execution_count": 12,
   "metadata": {},
   "outputs": [
    {
     "name": "stdout",
     "output_type": "stream",
     "text": [
      "30957\n",
      "1630\n"
     ]
    }
   ],
   "source": [
    "# leave ukprank out\n",
    "\n",
    "frames = [toledo_train, toledo_dev, gretz_train_no_common_topics, gretz_dev_no_common_topics, swanson_train, swanson_dev]\n",
    "loo_ukprank_training = pd.concat(frames,join='inner', ignore_index=True)\n",
    "\n",
    "loo_ukprank_train, loo_ukprank_dev = train_test_split(loo_ukprank_training, test_size= 0.05, random_state = 42, shuffle=True)\n",
    "\n",
    "print(len(loo_ukprank_train))\n",
    "print(len(loo_ukprank_dev))\n",
    "\n",
    "loo_ukprank_train.to_csv(\"loo_ukprank_train.txt\", sep=\"\\t\", columns=[\"argument\", \"rank\"], index=False, header=False)\n",
    "loo_ukprank_dev.to_csv(\"loo_ukprank_dev.txt\", sep=\"\\t\", columns=[\"argument\", \"rank\"], index=False, header=False)"
   ]
  },
  {
   "cell_type": "markdown",
   "metadata": {},
   "source": [
    "### Task 3: All Dataset Training"
   ]
  },
  {
   "cell_type": "code",
   "execution_count": 13,
   "metadata": {},
   "outputs": [
    {
     "name": "stdout",
     "output_type": "stream",
     "text": [
      "31900\n",
      "1679\n"
     ]
    }
   ],
   "source": [
    "frames = [toledo_train, toledo_dev, gretz_train_no_common_topics, gretz_dev_no_common_topics, swanson_train, swanson_dev, ukprank_train, ukprank_dev]\n",
    "\n",
    "task3_training = pd.concat(frames,join='inner', ignore_index=True)\n",
    "\n",
    "task3_train, task3_dev = train_test_split(task3_training, test_size= 0.05, random_state = 42, shuffle=True)\n",
    "\n",
    "print(len(task3_train))\n",
    "print(len(task3_dev))\n",
    "\n",
    "task3_train.to_csv(\"task3_train.txt\", sep=\"\\t\", columns=[\"argument\", \"rank\"], index=False, header=False)\n",
    "task3_dev.to_csv(\"task3_dev.txt\", sep=\"\\t\", columns=[\"argument\", \"rank\"], index=False, header=False)\n"
   ]
  },
  {
   "cell_type": "markdown",
   "metadata": {},
   "source": [
    "### EDA:"
   ]
  },
  {
   "cell_type": "code",
   "execution_count": 192,
   "metadata": {},
   "outputs": [
    {
     "data": {
      "image/png": "[encoded data removed]",
      "text/plain": [
       "<Figure size 1080x360 with 3 Axes>"
      ]
     },
     "metadata": {
      "needs_background": "light"
     },
     "output_type": "display_data"
    }
   ],
   "source": [
    "fig, axes = plt.subplots(1,3, figsize=(15, 5))\n",
    "\n",
    "axes[0].hist(gretz[\"rank\"])\n",
    "axes[0].set_title(\"Gretz\")\n",
    "axes[0].set_xlabel(\"rank\")\n",
    "axes[1].hist(comp_toledo[\"rank\"])\n",
    "axes[1].set_title(\"Toledo\")\n",
    "axes[1].set_xlabel(\"rank\")\n",
    "axes[2].hist(comp_swanson[\"rank\"])\n",
    "axes[2].set_title(\"Swanson\")\n",
    "axes[2].set_xlabel(\"rank\")\n",
    "plt.show()"
   ]
  },
  {
   "cell_type": "code",
   "execution_count": 195,
   "metadata": {},
   "outputs": [],
   "source": [
    "comp_ukprank[\"rank_rev\"] = 1 - comp_ukprank[\"rank\"] \n",
    "comp_ukprank[\"rank_norm\"] = (comp_ukprank[\"rank_rev\"] - comp_ukprank[\"rank_rev\"].min())/(comp_ukprank[\"rank_rev\"].max() - comp_ukprank[\"rank_rev\"].min())"
   ]
  },
  {
   "cell_type": "code",
   "execution_count": 196,
   "metadata": {},
   "outputs": [],
   "source": []
  },
  {
   "cell_type": "code",
   "execution_count": 197,
   "metadata": {},
   "outputs": [
    {
     "name": "stdout",
     "output_type": "stream",
     "text": [
      "count    1052.000000\n",
      "mean        0.499726\n",
      "std         0.289301\n",
      "min         0.000000\n",
      "25%         0.249286\n",
      "50%         0.499049\n",
      "75%         0.750000\n",
      "max         1.000000\n",
      "Name: rank, dtype: float64\n"
     ]
    }
   ],
   "source": [
    "# percentile linearization\n",
    "size = len(comp_ukprank) - 1\n",
    "helpful_percentile_linearization = comp_ukprank[\"rank\"].rank(method='min').apply(lambda x: (x-1)/size)\n",
    "print(helpful_percentile_linearization.describe())"
   ]
  },
  {
   "cell_type": "code",
   "execution_count": 194,
   "metadata": {},
   "outputs": [
    {
     "data": {
      "image/png": "[encoded data removed]",
      "text/plain": [
       "<Figure size 1080x360 with 3 Axes>"
      ]
     },
     "metadata": {
      "needs_background": "light"
     },
     "output_type": "display_data"
    }
   ],
   "source": [
    "fig, axes = plt.subplots(1,3, figsize=(15, 5))\n",
    "\n",
    "axes[0].hist(comp_ukprank[\"rank_rev\"])\n",
    "axes[0].set_title(\"UKPRank with rank reversed\")\n",
    "axes[0].set_xlabel(\"rank\")\n",
    "axes[1].hist(comp_ukprank[\"rank_norm\"])\n",
    "axes[1].set_title(\"UKPRank using Min-Max Normalization\")\n",
    "axes[1].set_xlabel(\"rank\")\n",
    "axes[2].hist(helpful_percentile_linearization)\n",
    "axes[2].set_title(\"UKPRank using percentile linearization\")\n",
    "axes[2].set_xlabel(\"rank\")\n",
    "plt.show()\n"
   ]
  },
  {
   "cell_type": "code",
   "execution_count": null,
   "metadata": {},
   "outputs": [],
   "source": [
    "'''\n",
    "- normalize UKPRank. \n",
    "- repeat the task related to ukp.\n",
    "\n",
    "- multi task learning model: two datasets (Gretz + UKPRank AM dataset) : two different heads: regression and classification.\n",
    "... batch learning ~ compare with the papers\n",
    "'''"
   ]
  },
  {
   "cell_type": "markdown",
   "metadata": {},
   "source": [
    "### Task 4:"
   ]
  },
  {
   "cell_type": "code",
   "execution_count": 12,
   "metadata": {},
   "outputs": [],
   "source": [
    "# prepare the four datafiles with filenames as the dataset name and contains four columns: id, sentence, label, mode\n",
    "\n",
    "gretz_train = pd.read_csv(\"gretz/gretz_train.txt\", sep=\"\\t\", names=[\"argument\", \"label\"])\n",
    "gretz_dev = pd.read_csv(\"gretz/gretz_dev.txt\", sep=\"\\t\", names=[\"argument\", \"label\"])\n",
    "gretz_test = pd.read_csv(\"gretz/gretz_test_no_common_topics.txt\", sep=\"\\t\", names=[\"argument\", \"label\"])\n",
    "\n",
    "toledo_train = pd.read_csv(\"toledo/toledo_train.txt\", sep=\"\\t\", names=[\"argument\", \"label\"])\n",
    "toledo_dev = pd.read_csv(\"toledo/toledo_dev.txt\", sep=\"\\t\", names=[\"argument\", \"label\"])\n",
    "toledo_test = pd.read_csv(\"toledo/toledo_test.txt\", sep=\"\\t\", names=[\"argument\", \"label\"])\n",
    "\n",
    "swanson_train = pd.read_csv(\"swanson/swanson_train.txt\", sep=\"\\t\", names=[\"argument\", \"label\"])\n",
    "swanson_dev = pd.read_csv(\"swanson/swanson_dev.txt\", sep=\"\\t\", names=[\"argument\", \"label\"])\n",
    "swanson_test = pd.read_csv(\"swanson/swanson_test.txt\", sep=\"\\t\", names=[\"argument\", \"label\"])\n",
    "\n",
    "ukp_train = pd.read_csv(\"habb/ukprank_train.txt\", sep=\"\\t\", names=[\"argument\", \"label\"])\n",
    "ukp_dev = pd.read_csv(\"habb/ukprank_dev.txt\", sep=\"\\t\", names=[\"argument\", \"label\"])\n",
    "ukp_test = pd.read_csv(\"habb/ukprank_test.txt\", sep=\"\\t\", names=[\"argument\", \"label\"])"
   ]
  },
  {
   "cell_type": "code",
   "execution_count": 26,
   "metadata": {},
   "outputs": [],
   "source": [
    "gretz_train[\"set\"] = \"train\"\n",
    "gretz_dev[\"set\"] = \"dev\"\n",
    "gretz_test[\"set\"] = \"test\"\n",
    "\n",
    "gretz = pd.concat([gretz_train, gretz_dev, gretz_test])\n",
    "gretz.reset_index(inplace=True, drop=True)\n",
    "gretz.to_csv(\"task4/gretz.csv\", columns=[\"argument\", \"label\", \"set\"], header=True, index=True, index_label=\"id\")\n",
    "\n",
    "toledo_train[\"set\"] = \"train\"\n",
    "toledo_dev[\"set\"] = \"dev\"\n",
    "toledo_test[\"set\"] = \"test\"\n",
    "toledo = pd.concat([toledo_train, toledo_dev, toledo_test])\n",
    "toledo.reset_index(inplace=True, drop=True)\n",
    "\n",
    "toledo.to_csv(\"task4/toledo.csv\", columns=[\"argument\", \"label\", \"set\"], header=True, index=True, index_label=\"id\")\n",
    "\n",
    "swanson_train[\"set\"] = \"train\"\n",
    "swanson_dev[\"set\"] = \"dev\"\n",
    "swanson_test[\"set\"] = \"test\"\n",
    "swanson = pd.concat([swanson_train, swanson_dev, swanson_test])\n",
    "swanson.reset_index(inplace=True, drop=True)\n",
    "\n",
    "swanson.to_csv(\"task4/swanson.csv\", columns=[\"argument\", \"label\", \"set\"], header=True, index=True, index_label=\"id\")\n",
    "\n",
    "ukp_train[\"set\"] = \"train\"\n",
    "ukp_dev[\"set\"] = \"dev\"\n",
    "ukp_test[\"set\"] = \"test\"\n",
    "ukp = pd.concat([ukp_train, ukp_dev, ukp_test])\n",
    "ukp.reset_index(inplace=True, drop=True)\n",
    "\n",
    "ukp.to_csv(\"task4/ukp.csv\", columns=[\"argument\", \"label\", \"set\"], header=True, index=True, index_label=\"id\")"
   ]
  },
  {
   "cell_type": "code",
   "execution_count": null,
   "metadata": {},
   "outputs": [],
   "source": []
  }
 ],
 "metadata": {
  "kernelspec": {
   "display_name": "Python 3",
   "language": "python",
   "name": "python3"
  },
  "language_info": {
   "codemirror_mode": {
    "name": "ipython",
    "version": 3
   },
   "file_extension": ".py",
   "mimetype": "text/x-python",
   "name": "python",
   "nbconvert_exporter": "python",
   "pygments_lexer": "ipython3",
   "version": "3.7.3"
  }
 },
 "nbformat": 4,
 "nbformat_minor": 4
}
