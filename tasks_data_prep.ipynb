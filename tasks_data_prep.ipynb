{
 "cells": [
  {
   "cell_type": "code",
   "execution_count": 57,
   "metadata": {},
   "outputs": [],
   "source": [
    "import numpy as np\n",
    "import pandas as pd\n",
    "import glob\n",
    "import matplotlib.pyplot as plt\n",
    "import random\n",
    "from sklearn.model_selection import train_test_split"
   ]
  },
  {
   "cell_type": "markdown",
   "metadata": {},
   "source": [
    "#### Gretz:"
   ]
  },
  {
   "cell_type": "code",
   "execution_count": 3,
   "metadata": {},
   "outputs": [
    {
     "name": "stdout",
     "output_type": "stream",
     "text": [
      "20974\n",
      "3208\n",
      "6315\n"
     ]
    }
   ],
   "source": [
    "# gretz Dataset\n",
    "\n",
    "gretz = pd.read_csv(\"Data/gretz/arg_quality_rank_30k.csv\", usecols=[\"argument\", \"topic\", \"set\", \"WA\"])\n",
    "gretz.rename(columns={\"WA\": \"rank\"}, inplace=True)\n",
    "\n",
    "# save gretz for future reference\n",
    "gretz.to_csv(\"Data/gretz/gretz_complete_set1.csv\", sep=\",\", columns=[\"rank\", \"argument\",\"topic\"], index=False)\n",
    "\n",
    "# split into the train-dev-test sets\n",
    "train_gretz = gretz[gretz[\"set\"] == \"train\"]\n",
    "dev_gretz = gretz[gretz[\"set\"] == \"dev\"]\n",
    "test_gretz = gretz[gretz[\"set\"] == \"test\"]\n",
    "\n",
    "print(len(train_gretz))\n",
    "print(len(dev_gretz))\n",
    "print(len(test_gretz))\n",
    "\n",
    "# prepare tab separated files that contain arg and WA scores\n",
    "\n",
    "train_gretz.to_csv(\"Data/gretz/gretz_train1.txt\", sep=\"\\t\", columns=[\"argument\", \"rank\", \"topic\"], index=False, header=False)\n",
    "dev_gretz.to_csv(\"Data/gretz/gretz_dev1.txt\", sep=\"\\t\", columns=[\"argument\", \"rank\", \"topic\"], index=False, header=False)\n",
    "test_gretz.to_csv(\"Data/gretz/gretz_test1.txt\", sep=\"\\t\", columns=[\"argument\", \"rank\", \"topic\"], index=False, header=False)\n",
    "\n",
    "# prepare gretz test set for toledo model but remove common topics\n",
    "test_gretz_without_common_topics = test_gretz.loc[~test_gretz[\"topic\"].isin([\"Social media brings more harm than good\"])]\n",
    "test_gretz_without_common_topics.to_csv(\"Data/gretz/gretz_test_no_common_topics1.txt\", sep=\"\\t\", columns=[\"argument\", \"rank\", \"topic\"], index=False, header=False)"
   ]
  },
  {
   "cell_type": "markdown",
   "metadata": {},
   "source": [
    "#### Toledo Dataset"
   ]
  },
  {
   "cell_type": "code",
   "execution_count": 20,
   "metadata": {},
   "outputs": [
    {
     "name": "stdout",
     "output_type": "stream",
     "text": [
      "4571\n",
      "241\n",
      "486\n"
     ]
    }
   ],
   "source": [
    "# toledo Dataset\n",
    "\n",
    "filenames = glob.glob(\"Data/toledo/IBM-ArgQ-5.3kArgs/*.tsv\")\n",
    "\n",
    "complete_toledo = []\n",
    "for i, filename in enumerate(filenames):\n",
    "    data = pd.read_csv(filename, sep=\"\\t\", engine='python')\n",
    "    data[\"topic\"] = filename[30:-4]\n",
    "    complete_toledo.append(data)\n",
    "\n",
    "comp_toledo = pd.concat(complete_toledo)\n",
    "comp_toledo.reset_index(inplace=True, drop=True)\n",
    "\n",
    "# save the complete set for future reference\n",
    "comp_toledo.to_csv(\"Data/toledo/toledo_complete_set1.csv\", sep=\",\", columns=[\"rank\", \"argument\",\"topic\"], index=False)\n",
    "\n",
    "# prepare train, dev and test sets.\n",
    "\n",
    "toledo_test_extra = comp_toledo.loc[comp_toledo[\"topic\"].isin([\"Flu-vaccination-should-be-mandatory-(PRO)\", \"Flu-vaccination-should-not-be-mandatory-(CON)\"])].reset_index(drop=True)\n",
    "toledo_training = comp_toledo.loc[~comp_toledo[\"topic\"].isin([\"Flu-vaccination-should-be-mandatory-(PRO)\", \"Flu-vaccination-should-not-be-mandatory-(CON)\"])].reset_index(drop=True)\n",
    "\n",
    "toledo_train, toledo_test = train_test_split(toledo_training, test_size= 0.05, random_state = 42, shuffle=True)\n",
    "toledo_train, toledo_dev = train_test_split(toledo_train, test_size= 0.05, random_state = 42, shuffle=True)\n",
    "\n",
    "toledo_test = pd.concat([toledo_test, toledo_test_extra])\n",
    "print(len(toledo_train))\n",
    "print(len(toledo_dev))\n",
    "print(len(toledo_test))\n",
    "\n",
    "toledo_train.to_csv(\"Data/toledo/toledo_train1.txt\", sep=\"\\t\", columns=[\"argument\", \"rank\", \"topic\"], index=False, header=False)\n",
    "toledo_dev.to_csv(\"Data/toledo/toledo_dev1.txt\", sep=\"\\t\", columns=[\"argument\", \"rank\", \"topic\"], index=False, header=False)\n",
    "toledo_test.to_csv(\"Data/toledo/toledo_test1.txt\", sep=\"\\t\", columns=[\"argument\", \"rank\", \"topic\"], index=False, header=False)\n"
   ]
  },
  {
   "cell_type": "markdown",
   "metadata": {},
   "source": [
    "#### Swanson Dataset"
   ]
  },
  {
   "cell_type": "code",
   "execution_count": 30,
   "metadata": {},
   "outputs": [
    {
     "name": "stdout",
     "output_type": "stream",
     "text": [
      "4850\n",
      "256\n",
      "269\n"
     ]
    }
   ],
   "source": [
    "# swanson \n",
    "\n",
    "filenames = glob.glob(\"Data/swanson/*means.csv\")\n",
    "\n",
    "complete_swanson = []\n",
    "for i, filename in enumerate(filenames):\n",
    "    data = pd.read_csv(filenames[i], usecols=['GoodSliderMean', 'Phrase.x'], engine='python')\n",
    "    data[\"topic\"] = filename[13:-17]\n",
    "    complete_swanson.append(data)\n",
    "\n",
    "comp_swanson = pd.concat(complete_swanson)\n",
    "comp_swanson.reset_index(inplace=True, drop=True)\n",
    "comp_swanson.rename(columns={\"GoodSliderMean\": \"rank\", \"Phrase.x\": \"argument\"}, inplace=True)\n",
    "\n",
    "# save comp_swanson for future reference\n",
    "comp_swanson.to_csv(\"Data/swanson/swanson_complete_set1.csv\", sep=\",\", columns=[\"rank\", \"argument\", \"topic\"], index=False)\n",
    "\n",
    "# swanson_test = comp_swanson.loc[comp_swanson[\"topic\"] == \"gc\" ].reset_index(drop=True)\n",
    "# swanson_training = comp_swanson[comp_swanson[\"topic\"] != \"gc\"].reset_index(drop=True)\n",
    "\n",
    "swanson_train, swanson_test = train_test_split(comp_swanson, test_size= 0.05, random_state = 42, shuffle=True)\n",
    "swanson_train, swanson_dev = train_test_split(swanson_train, test_size= 0.05, random_state = 42, shuffle=True)\n",
    "print(len(swanson_train))\n",
    "print(len(swanson_dev))\n",
    "print(len(swanson_test))\n",
    "\n",
    "swanson_train.to_csv(\"Data/swanson/swanson_train1.txt\", sep=\"\\t\", columns=[\"argument\", \"rank\", \"topic\"], index=False, header=False)\n",
    "swanson_dev.to_csv(\"Data/swanson/swanson_dev1.txt\", sep=\"\\t\", columns=[\"argument\", \"rank\", \"topic\"], index=False, header=False)\n",
    "swanson_test.to_csv(\"Data/swanson/swanson_test1.txt\", sep=\"\\t\", columns=[\"argument\", \"rank\", \"topic\"], index=False, header=False)"
   ]
  },
  {
   "cell_type": "markdown",
   "metadata": {},
   "source": [
    "#### UKP Dataset"
   ]
  },
  {
   "cell_type": "code",
   "execution_count": 36,
   "metadata": {},
   "outputs": [
    {
     "name": "stdout",
     "output_type": "stream",
     "text": [
      "949\n",
      "50\n",
      "53\n"
     ]
    }
   ],
   "source": [
    "# ukprank\n",
    "\n",
    "filenames = glob.glob(\"Data/habb/data/UKPConvArg1-Ranking-CSV/*.csv\")\n",
    "complete_ukprank = []\n",
    "for i, filename in enumerate(filenames):\n",
    "    data = pd.read_csv(filename, sep=\"\\t\")\n",
    "    data[\"topic\"] = filename[39:-4]\n",
    "    complete_ukprank.append(data)\n",
    "    \n",
    "comp_ukprank = pd.concat(complete_ukprank)\n",
    "comp_ukprank.reset_index(inplace=True, drop=True)\n",
    "comp_ukprank[\"rank_rev\"] = 1 - comp_ukprank[\"rank\"] \n",
    "comp_ukprank[\"rank_norm\"] = (comp_ukprank[\"rank_rev\"] - comp_ukprank[\"rank_rev\"].min())/(comp_ukprank[\"rank_rev\"].max() - comp_ukprank[\"rank_rev\"].min())\n",
    "comp_ukprank.rename(columns={\"#id\": \"id\", \"rank\": \"old_rank\", \"rank_norm\": \"rank\"}, inplace=True)\n",
    "\n",
    "# save comp_ukprank for future reference\n",
    "comp_ukprank.to_csv(\"Data/habb/ukprank_complete_set1.csv\", sep=\",\", columns=[\"rank\", \"argument\", \"topic\"], index=False)\n",
    "\n",
    "\n",
    "# ukprank_test = comp_ukprank.loc[comp_ukprank[\"topic\"].isin([\"ban-plastic-water-bottles_no-bad-for-the-economy\", \"ban-plastic-water-bottles_yes-emergencies-only\"])].reset_index(drop=True)\n",
    "# ukprank_training = comp_ukprank.loc[~comp_ukprank[\"topic\"].isin([\"ban-plastic-water-bottles_no-bad-for-the-economy\", \"ban-plastic-water-bottles_yes-emergencies-only\"])].reset_index(drop=True)\n",
    "\n",
    "ukprank_training, ukprank_test = train_test_split(comp_ukprank, test_size= 0.05, random_state = 42, shuffle=True)\n",
    "ukprank_train, ukprank_dev = train_test_split(ukprank_training, test_size= 0.05, random_state = 42, shuffle=True)\n",
    "\n",
    "print(len(ukprank_train))\n",
    "print(len(ukprank_dev))\n",
    "print(len(ukprank_test))\n",
    "\n",
    "ukprank_train.to_csv(\"Data/habb/ukprank_train1.txt\", sep=\"\\t\", columns=[\"argument\", \"rank\", \"topic\"], index=False, header=False)\n",
    "ukprank_dev.to_csv(\"Data/habb/ukprank_dev1.txt\", sep=\"\\t\", columns=[\"argument\", \"rank\", \"topic\"], index=False, header=False)\n",
    "ukprank_test.to_csv(\"Data/habb/ukprank_test1.txt\", sep=\"\\t\", columns=[\"argument\", \"rank\", \"topic\"], index=False, header=False)\n"
   ]
  },
  {
   "cell_type": "markdown",
   "metadata": {},
   "source": [
    "### Dataset Prep for Task 2:"
   ]
  },
  {
   "cell_type": "code",
   "execution_count": 3,
   "metadata": {},
   "outputs": [],
   "source": [
    "loo_gretz_path = \"loo_gretz\"\n",
    "loo_ibm_path = \"loo_ibm\"\n",
    "loo_ukp_path = \"loo_ukp\"\n",
    "loo_swanson_path = \"loo_swanson\""
   ]
  },
  {
   "cell_type": "code",
   "execution_count": 4,
   "metadata": {},
   "outputs": [],
   "source": [
    "gretz = pd.read_csv(\"gretz/gretz_complete_set.csv\", sep=\",\")\n",
    "toledo = pd.read_csv(\"toledo/toledo_complete_set.csv\", sep=\",\")\n",
    "swanson = pd.read_csv(\"swanson/swanson_complete_set.csv\", sep=\",\")\n",
    "ukprank = pd.read_csv(\"habb/ukprank_complete_set.csv\", sep=\",\")"
   ]
  },
  {
   "cell_type": "code",
   "execution_count": 8,
   "metadata": {},
   "outputs": [
    {
     "name": "stdout",
     "output_type": "stream",
     "text": [
      "9350\n",
      "493\n"
     ]
    }
   ],
   "source": [
    "# leave gretz out\n",
    "frames = [swanson_train, swanson_dev, toledo_train, toledo_dev, ukprank_train, ukprank_dev]\n",
    "loo_gretz_training = pd.concat(frames,join='inner', ignore_index=True)\n",
    "\n",
    "loo_gretz_train, loo_gretz_dev = train_test_split(loo_gretz_training, test_size= 0.05, random_state = 42, shuffle=True)\n",
    "\n",
    "print(len(loo_gretz_train))\n",
    "print(len(loo_gretz_dev))\n",
    "\n",
    "loo_gretz_train.to_csv(\"loo_gretz_train.txt\", sep=\"\\t\", columns=[\"argument\", \"rank\"], index=False, header=False)\n",
    "loo_gretz_dev.to_csv(\"loo_gretz_dev.txt\", sep=\"\\t\", columns=[\"argument\", \"rank\"], index=False, header=False)"
   ]
  },
  {
   "cell_type": "code",
   "execution_count": 9,
   "metadata": {},
   "outputs": [
    {
     "name": "stdout",
     "output_type": "stream",
     "text": [
      "27511\n",
      "1448\n"
     ]
    }
   ],
   "source": [
    "# leave toledo out\n",
    "frames = [swanson_train, swanson_dev, train_gretz, dev_gretz, ukprank_train, ukprank_dev]\n",
    "loo_toledo_training = pd.concat(frames,join='inner', ignore_index=True)\n",
    "\n",
    "loo_toledo_train, loo_toledo_dev = train_test_split(loo_toledo_training, test_size= 0.05, random_state = 42, shuffle=True)\n",
    "\n",
    "print(len(loo_toledo_train))\n",
    "print(len(loo_toledo_dev))\n",
    "\n",
    "loo_toledo_train.to_csv(\"loo_toledo_train.txt\", sep=\"\\t\", columns=[\"argument\", \"rank\"], index=False, header=False)\n",
    "loo_toledo_dev.to_csv(\"loo_toledo_dev.txt\", sep=\"\\t\", columns=[\"argument\", \"rank\"], index=False, header=False)"
   ]
  },
  {
   "cell_type": "code",
   "execution_count": 10,
   "metadata": {},
   "outputs": [],
   "source": [
    "# remove common topics from gretz datasets\n",
    "\n",
    "gretz_train_no_common_topics = train_gretz.loc[~train_gretz[\"topic\"].isin(['Social media brings more harm than good', 'We should stop the development of autonomous cars'])]\n",
    "gretz_dev_no_common_topics = dev_gretz.loc[~dev_gretz[\"topic\"].isin(['Social media brings more harm than good', 'We should stop the development of autonomous cars'])]"
   ]
  },
  {
   "cell_type": "code",
   "execution_count": 11,
   "metadata": {},
   "outputs": [
    {
     "name": "stdout",
     "output_type": "stream",
     "text": [
      "28304\n",
      "1490\n"
     ]
    }
   ],
   "source": [
    "# leave swanson out\n",
    "frames = [toledo_train, toledo_dev, gretz_train_no_common_topics, gretz_dev_no_common_topics, ukprank_train, ukprank_dev]\n",
    "loo_swanson_training = pd.concat(frames,join='inner', ignore_index=True)\n",
    "\n",
    "loo_swanson_train, loo_swanson_dev = train_test_split(loo_swanson_training, test_size= 0.05, random_state = 42, shuffle=True)\n",
    "\n",
    "print(len(loo_swanson_train))\n",
    "print(len(loo_swanson_dev))\n",
    "\n",
    "loo_swanson_train.to_csv(\"loo_swanson_train.txt\", sep=\"\\t\", columns=[\"argument\", \"rank\"], index=False, header=False)\n",
    "loo_swanson_dev.to_csv(\"loo_swanson_dev.txt\", sep=\"\\t\", columns=[\"argument\", \"rank\"], index=False, header=False)"
   ]
  },
  {
   "cell_type": "code",
   "execution_count": 12,
   "metadata": {},
   "outputs": [
    {
     "name": "stdout",
     "output_type": "stream",
     "text": [
      "30957\n",
      "1630\n"
     ]
    }
   ],
   "source": [
    "# leave ukprank out\n",
    "\n",
    "frames = [toledo_train, toledo_dev, gretz_train_no_common_topics, gretz_dev_no_common_topics, swanson_train, swanson_dev]\n",
    "loo_ukprank_training = pd.concat(frames,join='inner', ignore_index=True)\n",
    "\n",
    "loo_ukprank_train, loo_ukprank_dev = train_test_split(loo_ukprank_training, test_size= 0.05, random_state = 42, shuffle=True)\n",
    "\n",
    "print(len(loo_ukprank_train))\n",
    "print(len(loo_ukprank_dev))\n",
    "\n",
    "loo_ukprank_train.to_csv(\"loo_ukprank_train.txt\", sep=\"\\t\", columns=[\"argument\", \"rank\"], index=False, header=False)\n",
    "loo_ukprank_dev.to_csv(\"loo_ukprank_dev.txt\", sep=\"\\t\", columns=[\"argument\", \"rank\"], index=False, header=False)"
   ]
  },
  {
   "cell_type": "markdown",
   "metadata": {},
   "source": [
    "### Task 3: All Dataset Training"
   ]
  },
  {
   "cell_type": "code",
   "execution_count": 13,
   "metadata": {},
   "outputs": [
    {
     "name": "stdout",
     "output_type": "stream",
     "text": [
      "31900\n",
      "1679\n"
     ]
    }
   ],
   "source": [
    "frames = [toledo_train, toledo_dev, gretz_train_no_common_topics, gretz_dev_no_common_topics, swanson_train, swanson_dev, ukprank_train, ukprank_dev]\n",
    "\n",
    "task3_training = pd.concat(frames,join='inner', ignore_index=True)\n",
    "\n",
    "task3_train, task3_dev = train_test_split(task3_training, test_size= 0.05, random_state = 42, shuffle=True)\n",
    "\n",
    "print(len(task3_train))\n",
    "print(len(task3_dev))\n",
    "\n",
    "task3_train.to_csv(\"task3_train.txt\", sep=\"\\t\", columns=[\"argument\", \"rank\"], index=False, header=False)\n",
    "task3_dev.to_csv(\"task3_dev.txt\", sep=\"\\t\", columns=[\"argument\", \"rank\"], index=False, header=False)\n"
   ]
  },
  {
   "cell_type": "markdown",
   "metadata": {},
   "source": [
    "### EDA:"
   ]
  },
  {
   "cell_type": "code",
   "execution_count": 192,
   "metadata": {},
   "outputs": [
    {
     "data": {
      "image/png": "[encoded data removed]",
      "text/plain": [
       "<Figure size 1080x360 with 3 Axes>"
      ]
     },
     "metadata": {
      "needs_background": "light"
     },
     "output_type": "display_data"
    }
   ],
   "source": [
    "fig, axes = plt.subplots(1,3, figsize=(15, 5))\n",
    "\n",
    "axes[0].hist(gretz[\"rank\"])\n",
    "axes[0].set_title(\"Gretz\")\n",
    "axes[0].set_xlabel(\"rank\")\n",
    "axes[1].hist(comp_toledo[\"rank\"])\n",
    "axes[1].set_title(\"Toledo\")\n",
    "axes[1].set_xlabel(\"rank\")\n",
    "axes[2].hist(comp_swanson[\"rank\"])\n",
    "axes[2].set_title(\"Swanson\")\n",
    "axes[2].set_xlabel(\"rank\")\n",
    "plt.show()"
   ]
  },
  {
   "cell_type": "code",
   "execution_count": 195,
   "metadata": {},
   "outputs": [],
   "source": [
    "comp_ukprank[\"rank_rev\"] = 1 - comp_ukprank[\"rank\"] \n",
    "comp_ukprank[\"rank_norm\"] = (comp_ukprank[\"rank_rev\"] - comp_ukprank[\"rank_rev\"].min())/(comp_ukprank[\"rank_rev\"].max() - comp_ukprank[\"rank_rev\"].min())"
   ]
  },
  {
   "cell_type": "code",
   "execution_count": 196,
   "metadata": {},
   "outputs": [],
   "source": []
  },
  {
   "cell_type": "code",
   "execution_count": 197,
   "metadata": {},
   "outputs": [
    {
     "name": "stdout",
     "output_type": "stream",
     "text": [
      "count    1052.000000\n",
      "mean        0.499726\n",
      "std         0.289301\n",
      "min         0.000000\n",
      "25%         0.249286\n",
      "50%         0.499049\n",
      "75%         0.750000\n",
      "max         1.000000\n",
      "Name: rank, dtype: float64\n"
     ]
    }
   ],
   "source": [
    "# percentile linearization\n",
    "size = len(comp_ukprank) - 1\n",
    "helpful_percentile_linearization = comp_ukprank[\"rank\"].rank(method='min').apply(lambda x: (x-1)/size)\n",
    "print(helpful_percentile_linearization.describe())"
   ]
  },
  {
   "cell_type": "code",
   "execution_count": 194,
   "metadata": {},
   "outputs": [
    {
     "data": {
      "image/png": "[encoded data removed]",
      "text/plain": [
       "<Figure size 1080x360 with 3 Axes>"
      ]
     },
     "metadata": {
      "needs_background": "light"
     },
     "output_type": "display_data"
    }
   ],
   "source": [
    "fig, axes = plt.subplots(1,3, figsize=(15, 5))\n",
    "\n",
    "axes[0].hist(comp_ukprank[\"rank_rev\"])\n",
    "axes[0].set_title(\"UKPRank with rank reversed\")\n",
    "axes[0].set_xlabel(\"rank\")\n",
    "axes[1].hist(comp_ukprank[\"rank_norm\"])\n",
    "axes[1].set_title(\"UKPRank using Min-Max Normalization\")\n",
    "axes[1].set_xlabel(\"rank\")\n",
    "axes[2].hist(helpful_percentile_linearization)\n",
    "axes[2].set_title(\"UKPRank using percentile linearization\")\n",
    "axes[2].set_xlabel(\"rank\")\n",
    "plt.show()\n"
   ]
  },
  {
   "cell_type": "code",
   "execution_count": null,
   "metadata": {},
   "outputs": [],
   "source": [
    "'''\n",
    "- normalize UKPRank. \n",
    "- repeat the task related to ukp.\n",
    "\n",
    "- multi task learning model: two datasets (Gretz + UKPRank AM dataset) : two different heads: regression and classification.\n",
    "... batch learning ~ compare with the papers\n",
    "'''"
   ]
  },
  {
   "cell_type": "markdown",
   "metadata": {},
   "source": [
    "### Task 4:"
   ]
  },
  {
   "cell_type": "code",
   "execution_count": 37,
   "metadata": {},
   "outputs": [],
   "source": [
    "# prepare the four datafiles with filenames as the dataset name and contains four columns: id, sentence, label, mode\n",
    "\n",
    "gretz_train = pd.read_csv(\"Data/gretz/gretz_train1.txt\", sep=\"\\t\", names=[\"argument\", \"label\", \"topic\"])\n",
    "gretz_dev = pd.read_csv(\"Data/gretz/gretz_dev1.txt\", sep=\"\\t\", names=[\"argument\", \"label\", \"topic\"])\n",
    "gretz_test = pd.read_csv(\"Data/gretz/gretz_test_no_common_topics1.txt\", sep=\"\\t\", names=[\"argument\", \"label\", \"topic\"])\n",
    "\n",
    "toledo_train = pd.read_csv(\"Data/toledo/toledo_train1.txt\", sep=\"\\t\", names=[\"argument\", \"label\", \"topic\"])\n",
    "toledo_dev = pd.read_csv(\"Data/toledo/toledo_dev1.txt\", sep=\"\\t\", names=[\"argument\", \"label\", \"topic\"])\n",
    "toledo_test = pd.read_csv(\"Data/toledo/toledo_test1.txt\", sep=\"\\t\", names=[\"argument\", \"label\", \"topic\"])\n",
    "\n",
    "swanson_train = pd.read_csv(\"Data/swanson/swanson_train1.txt\", sep=\"\\t\", names=[\"argument\", \"label\", \"topic\"])\n",
    "swanson_dev = pd.read_csv(\"Data/swanson/swanson_dev1.txt\", sep=\"\\t\", names=[\"argument\", \"label\", \"topic\"])\n",
    "swanson_test = pd.read_csv(\"Data/swanson/swanson_test1.txt\", sep=\"\\t\", names=[\"argument\", \"label\", \"topic\"])\n",
    "\n",
    "ukp_train = pd.read_csv(\"Data/habb/ukprank_train1.txt\", sep=\"\\t\", names=[\"argument\", \"label\", \"topic\"])\n",
    "ukp_dev = pd.read_csv(\"Data/habb/ukprank_dev1.txt\", sep=\"\\t\", names=[\"argument\", \"label\", \"topic\"])\n",
    "ukp_test = pd.read_csv(\"Data/habb/ukprank_test1.txt\", sep=\"\\t\", names=[\"argument\", \"label\", \"topic\"])"
   ]
  },
  {
   "cell_type": "code",
   "execution_count": 38,
   "metadata": {},
   "outputs": [],
   "source": [
    "gretz_train[\"set\"] = \"train\"\n",
    "gretz_dev[\"set\"] = \"dev\"\n",
    "gretz_test[\"set\"] = \"test\"\n",
    "\n",
    "gretz = pd.concat([gretz_train, gretz_dev, gretz_test])\n",
    "gretz.reset_index(inplace=True, drop=True)\n",
    "gretz.to_csv(\"Data/gretz.csv\", columns=[\"argument\", \"label\", \"set\", \"topic\"], header=True, index=True, index_label=\"id\")\n",
    "\n",
    "toledo_train[\"set\"] = \"train\"\n",
    "toledo_dev[\"set\"] = \"dev\"\n",
    "toledo_test[\"set\"] = \"test\"\n",
    "toledo = pd.concat([toledo_train, toledo_dev, toledo_test])\n",
    "toledo.reset_index(inplace=True, drop=True)\n",
    "\n",
    "toledo.to_csv(\"Data/toledo.csv\", columns=[\"argument\", \"label\", \"set\", \"topic\"], header=True, index=True, index_label=\"id\")\n",
    "\n",
    "swanson_train[\"set\"] = \"train\"\n",
    "swanson_dev[\"set\"] = \"dev\"\n",
    "swanson_test[\"set\"] = \"test\"\n",
    "swanson = pd.concat([swanson_train, swanson_dev, swanson_test])\n",
    "swanson.reset_index(inplace=True, drop=True)\n",
    "\n",
    "swanson.to_csv(\"Data/swanson.csv\", columns=[\"argument\", \"label\", \"set\", \"topic\"], header=True, index=True, index_label=\"id\")\n",
    "\n",
    "ukp_train[\"set\"] = \"train\"\n",
    "ukp_dev[\"set\"] = \"dev\"\n",
    "ukp_test[\"set\"] = \"test\"\n",
    "ukp = pd.concat([ukp_train, ukp_dev, ukp_test])\n",
    "ukp.reset_index(inplace=True, drop=True)\n",
    "\n",
    "ukp.to_csv(\"Data/ukp.csv\", columns=[\"argument\", \"label\", \"set\", \"topic\"], header=True, index=True, index_label=\"id\")"
   ]
  },
  {
   "cell_type": "code",
   "execution_count": 42,
   "metadata": {},
   "outputs": [
    {
     "data": {
      "image/png": "[encoded data removed]",
      "text/plain": [
       "<Figure size 1080x360 with 4 Axes>"
      ]
     },
     "metadata": {
      "needs_background": "light"
     },
     "output_type": "display_data"
    }
   ],
   "source": [
    "fig, axes = plt.subplots(1,4, figsize=(15, 5))\n",
    "\n",
    "axes[0].hist(gretz_train[\"label\"])\n",
    "axes[0].set_title(\"Gretz\")\n",
    "axes[0].set_xlabel(\"label\")\n",
    "axes[1].hist(toledo_train[\"label\"])\n",
    "axes[1].set_title(\"Toledo\")\n",
    "axes[1].set_xlabel(\"rank\")\n",
    "axes[2].hist(swanson_train[\"label\"])\n",
    "axes[2].set_title(\"Swanson\")\n",
    "axes[2].set_xlabel(\"rank\")\n",
    "axes[3].hist(ukp_train[\"label\"])\n",
    "axes[3].set_title(\"ukp\")\n",
    "axes[3].set_xlabel(\"rank\")\n",
    "plt.show()"
   ]
  },
  {
   "cell_type": "code",
   "execution_count": 43,
   "metadata": {},
   "outputs": [
    {
     "data": {
      "image/png": "[encoded data removed]",
      "text/plain": [
       "<Figure size 1080x360 with 4 Axes>"
      ]
     },
     "metadata": {
      "needs_background": "light"
     },
     "output_type": "display_data"
    }
   ],
   "source": [
    "fig, axes = plt.subplots(1,4, figsize=(15, 5))\n",
    "\n",
    "axes[0].hist(gretz_dev[\"label\"])\n",
    "axes[0].set_title(\"Gretz\")\n",
    "axes[0].set_xlabel(\"label\")\n",
    "axes[1].hist(toledo_dev[\"label\"])\n",
    "axes[1].set_title(\"Toledo\")\n",
    "axes[1].set_xlabel(\"rank\")\n",
    "axes[2].hist(swanson_dev[\"label\"])\n",
    "axes[2].set_title(\"Swanson\")\n",
    "axes[2].set_xlabel(\"rank\")\n",
    "axes[3].hist(ukp_dev[\"label\"])\n",
    "axes[3].set_title(\"ukp\")\n",
    "axes[3].set_xlabel(\"rank\")\n",
    "plt.show()"
   ]
  },
  {
   "cell_type": "code",
   "execution_count": 44,
   "metadata": {},
   "outputs": [
    {
     "data": {
      "image/png": "[encoded data removed]",
      "text/plain": [
       "<Figure size 1080x360 with 4 Axes>"
      ]
     },
     "metadata": {
      "needs_background": "light"
     },
     "output_type": "display_data"
    }
   ],
   "source": [
    "fig, axes = plt.subplots(1,4, figsize=(15, 5))\n",
    "\n",
    "axes[0].hist(gretz_test[\"label\"])\n",
    "axes[0].set_title(\"Gretz\")\n",
    "axes[0].set_xlabel(\"label\")\n",
    "axes[1].hist(toledo_test[\"label\"])\n",
    "axes[1].set_title(\"Toledo\")\n",
    "axes[1].set_xlabel(\"rank\")\n",
    "axes[2].hist(swanson_test[\"label\"])\n",
    "axes[2].set_title(\"Swanson\")\n",
    "axes[2].set_xlabel(\"rank\")\n",
    "axes[3].hist(ukp_test[\"label\"])\n",
    "axes[3].set_title(\"ukp\")\n",
    "axes[3].set_xlabel(\"rank\")\n",
    "plt.show()"
   ]
  },
  {
   "cell_type": "code",
   "execution_count": 46,
   "metadata": {},
   "outputs": [
    {
     "data": {
      "text/html": [
       "<div>\n",
       "<style scoped>\n",
       "    .dataframe tbody tr th:only-of-type {\n",
       "        vertical-align: middle;\n",
       "    }\n",
       "\n",
       "    .dataframe tbody tr th {\n",
       "        vertical-align: top;\n",
       "    }\n",
       "\n",
       "    .dataframe thead th {\n",
       "        text-align: right;\n",
       "    }\n",
       "</style>\n",
       "<table border=\"1\" class=\"dataframe\">\n",
       "  <thead>\n",
       "    <tr style=\"text-align: right;\">\n",
       "      <th></th>\n",
       "      <th>argument</th>\n",
       "      <th>label</th>\n",
       "      <th>topic</th>\n",
       "      <th>set</th>\n",
       "    </tr>\n",
       "  </thead>\n",
       "  <tbody>\n",
       "    <tr>\n",
       "      <th>0</th>\n",
       "      <td>6 million people died so to deny the holocaust...</td>\n",
       "      <td>0.738337</td>\n",
       "      <td>Holocaust denial should be a criminal offence</td>\n",
       "      <td>test</td>\n",
       "    </tr>\n",
       "    <tr>\n",
       "      <th>1</th>\n",
       "      <td>a ban would only bring problems in gender equa...</td>\n",
       "      <td>0.721728</td>\n",
       "      <td>We should prohibit women in combat</td>\n",
       "      <td>test</td>\n",
       "    </tr>\n",
       "    <tr>\n",
       "      <th>2</th>\n",
       "      <td>A centralized system of criminal defense would...</td>\n",
       "      <td>0.828674</td>\n",
       "      <td>The use of public defenders should be mandatory</td>\n",
       "      <td>test</td>\n",
       "    </tr>\n",
       "    <tr>\n",
       "      <th>3</th>\n",
       "      <td>a constantly growing population requires large...</td>\n",
       "      <td>0.732927</td>\n",
       "      <td>We should ban factory farming</td>\n",
       "      <td>test</td>\n",
       "    </tr>\n",
       "    <tr>\n",
       "      <th>4</th>\n",
       "      <td>a country would fall apart under libertarianis...</td>\n",
       "      <td>0.790850</td>\n",
       "      <td>We should adopt libertarianism</td>\n",
       "      <td>test</td>\n",
       "    </tr>\n",
       "    <tr>\n",
       "      <th>5</th>\n",
       "      <td>a criminal that offends two times is likely to...</td>\n",
       "      <td>0.717313</td>\n",
       "      <td>We should abolish the three-strikes laws</td>\n",
       "      <td>test</td>\n",
       "    </tr>\n",
       "    <tr>\n",
       "      <th>6</th>\n",
       "      <td>a criminal will think twice about committing a...</td>\n",
       "      <td>1.000000</td>\n",
       "      <td>We should abolish the three-strikes laws</td>\n",
       "      <td>test</td>\n",
       "    </tr>\n",
       "    <tr>\n",
       "      <th>7</th>\n",
       "      <td>a defendant has a right to defend himself</td>\n",
       "      <td>0.683184</td>\n",
       "      <td>The use of public defenders should be mandatory</td>\n",
       "      <td>test</td>\n",
       "    </tr>\n",
       "    <tr>\n",
       "      <th>8</th>\n",
       "      <td>a formal school prayer can not properly be con...</td>\n",
       "      <td>0.748915</td>\n",
       "      <td>We should prohibit school prayer</td>\n",
       "      <td>test</td>\n",
       "    </tr>\n",
       "    <tr>\n",
       "      <th>9</th>\n",
       "      <td>a government should do whatever it needs to to...</td>\n",
       "      <td>0.710451</td>\n",
       "      <td>We should ban targeted killing</td>\n",
       "      <td>test</td>\n",
       "    </tr>\n",
       "    <tr>\n",
       "      <th>10</th>\n",
       "      <td>a great deal of money is wasted every year on ...</td>\n",
       "      <td>0.902615</td>\n",
       "      <td>We should legalize cannabis</td>\n",
       "      <td>test</td>\n",
       "    </tr>\n",
       "    <tr>\n",
       "      <th>11</th>\n",
       "      <td>a large majority of the world believes in god ...</td>\n",
       "      <td>0.796955</td>\n",
       "      <td>We should adopt atheism</td>\n",
       "      <td>test</td>\n",
       "    </tr>\n",
       "    <tr>\n",
       "      <th>12</th>\n",
       "      <td>a lawyer would provide better representation f...</td>\n",
       "      <td>0.794727</td>\n",
       "      <td>The use of public defenders should be mandatory</td>\n",
       "      <td>test</td>\n",
       "    </tr>\n",
       "    <tr>\n",
       "      <th>13</th>\n",
       "      <td>a libertarian government is just an excuse to ...</td>\n",
       "      <td>0.614788</td>\n",
       "      <td>We should adopt libertarianism</td>\n",
       "      <td>test</td>\n",
       "    </tr>\n",
       "    <tr>\n",
       "      <th>14</th>\n",
       "      <td>a libertarian government with provide the lowe...</td>\n",
       "      <td>1.000000</td>\n",
       "      <td>We should adopt libertarianism</td>\n",
       "      <td>test</td>\n",
       "    </tr>\n",
       "    <tr>\n",
       "      <th>15</th>\n",
       "      <td>a libertarian system allows and ensures that a...</td>\n",
       "      <td>1.000000</td>\n",
       "      <td>We should adopt libertarianism</td>\n",
       "      <td>test</td>\n",
       "    </tr>\n",
       "    <tr>\n",
       "      <th>16</th>\n",
       "      <td>a lot of private resources are needed for mili...</td>\n",
       "      <td>0.605510</td>\n",
       "      <td>We should ban private military companies</td>\n",
       "      <td>test</td>\n",
       "    </tr>\n",
       "    <tr>\n",
       "      <th>17</th>\n",
       "      <td>a majority of americans identify with a religion.</td>\n",
       "      <td>0.520714</td>\n",
       "      <td>We should adopt atheism</td>\n",
       "      <td>test</td>\n",
       "    </tr>\n",
       "    <tr>\n",
       "      <th>18</th>\n",
       "      <td>a military company ban would only be closing o...</td>\n",
       "      <td>0.344500</td>\n",
       "      <td>We should ban private military companies</td>\n",
       "      <td>test</td>\n",
       "    </tr>\n",
       "    <tr>\n",
       "      <th>19</th>\n",
       "      <td>a non-denominational prayer can be construed a...</td>\n",
       "      <td>0.662632</td>\n",
       "      <td>We should prohibit school prayer</td>\n",
       "      <td>test</td>\n",
       "    </tr>\n",
       "    <tr>\n",
       "      <th>20</th>\n",
       "      <td>a non-denominational school prayer is about as...</td>\n",
       "      <td>0.591797</td>\n",
       "      <td>We should prohibit school prayer</td>\n",
       "      <td>test</td>\n",
       "    </tr>\n",
       "    <tr>\n",
       "      <th>21</th>\n",
       "      <td>a person accused of a crime should have the ri...</td>\n",
       "      <td>0.653479</td>\n",
       "      <td>The use of public defenders should be mandatory</td>\n",
       "      <td>test</td>\n",
       "    </tr>\n",
       "    <tr>\n",
       "      <th>22</th>\n",
       "      <td>a person being accused of a crime deserves the...</td>\n",
       "      <td>0.406987</td>\n",
       "      <td>The use of public defenders should be mandatory</td>\n",
       "      <td>test</td>\n",
       "    </tr>\n",
       "    <tr>\n",
       "      <th>23</th>\n",
       "      <td>a person has freedom of speech and making this...</td>\n",
       "      <td>0.702661</td>\n",
       "      <td>Holocaust denial should be a criminal offence</td>\n",
       "      <td>test</td>\n",
       "    </tr>\n",
       "    <tr>\n",
       "      <th>24</th>\n",
       "      <td>a person has their right to their own opinion ...</td>\n",
       "      <td>0.845077</td>\n",
       "      <td>Holocaust denial should be a criminal offence</td>\n",
       "      <td>test</td>\n",
       "    </tr>\n",
       "    <tr>\n",
       "      <th>25</th>\n",
       "      <td>a person should be able to pray to whatever fo...</td>\n",
       "      <td>0.430935</td>\n",
       "      <td>We should adopt atheism</td>\n",
       "      <td>test</td>\n",
       "    </tr>\n",
       "    <tr>\n",
       "      <th>26</th>\n",
       "      <td>a person should be free to choose whatever law...</td>\n",
       "      <td>0.809709</td>\n",
       "      <td>The use of public defenders should be mandatory</td>\n",
       "      <td>test</td>\n",
       "    </tr>\n",
       "    <tr>\n",
       "      <th>27</th>\n",
       "      <td>a person that denies the holocaust need to be ...</td>\n",
       "      <td>0.738647</td>\n",
       "      <td>Holocaust denial should be a criminal offence</td>\n",
       "      <td>test</td>\n",
       "    </tr>\n",
       "    <tr>\n",
       "      <th>28</th>\n",
       "      <td>a person's beliefs are bigger than what they a...</td>\n",
       "      <td>0.856352</td>\n",
       "      <td>We should prohibit school prayer</td>\n",
       "      <td>test</td>\n",
       "    </tr>\n",
       "    <tr>\n",
       "      <th>29</th>\n",
       "      <td>a person's opinions are the beliefs of that in...</td>\n",
       "      <td>1.000000</td>\n",
       "      <td>Holocaust denial should be a criminal offence</td>\n",
       "      <td>test</td>\n",
       "    </tr>\n",
       "    <tr>\n",
       "      <th>...</th>\n",
       "      <td>...</td>\n",
       "      <td>...</td>\n",
       "      <td>...</td>\n",
       "      <td>...</td>\n",
       "    </tr>\n",
       "    <tr>\n",
       "      <th>5954</th>\n",
       "      <td>would eliminate religious persecute and stop s...</td>\n",
       "      <td>0.304218</td>\n",
       "      <td>We should adopt atheism</td>\n",
       "      <td>test</td>\n",
       "    </tr>\n",
       "    <tr>\n",
       "      <th>5955</th>\n",
       "      <td>would ensure that everyone had the same defense</td>\n",
       "      <td>0.858783</td>\n",
       "      <td>The use of public defenders should be mandatory</td>\n",
       "      <td>test</td>\n",
       "    </tr>\n",
       "    <tr>\n",
       "      <th>5956</th>\n",
       "      <td>would help eliminate overcrowding in prisons.</td>\n",
       "      <td>0.524618</td>\n",
       "      <td>We should legalize cannabis</td>\n",
       "      <td>test</td>\n",
       "    </tr>\n",
       "    <tr>\n",
       "      <th>5957</th>\n",
       "      <td>would increase the number of repeat offenders.</td>\n",
       "      <td>0.611818</td>\n",
       "      <td>We should abolish the three-strikes laws</td>\n",
       "      <td>test</td>\n",
       "    </tr>\n",
       "    <tr>\n",
       "      <th>5958</th>\n",
       "      <td>would lead to a decrease in morals and ethics</td>\n",
       "      <td>0.300238</td>\n",
       "      <td>We should adopt atheism</td>\n",
       "      <td>test</td>\n",
       "    </tr>\n",
       "    <tr>\n",
       "      <th>5959</th>\n",
       "      <td>yes i think that the use of public defenders s...</td>\n",
       "      <td>0.523335</td>\n",
       "      <td>The use of public defenders should be mandatory</td>\n",
       "      <td>test</td>\n",
       "    </tr>\n",
       "    <tr>\n",
       "      <th>5960</th>\n",
       "      <td>yes, as long as the person agrees and is not r...</td>\n",
       "      <td>0.179581</td>\n",
       "      <td>We should adopt atheism</td>\n",
       "      <td>test</td>\n",
       "    </tr>\n",
       "    <tr>\n",
       "      <th>5961</th>\n",
       "      <td>yes, it's a religious practice and should not ...</td>\n",
       "      <td>0.613268</td>\n",
       "      <td>We should prohibit school prayer</td>\n",
       "      <td>test</td>\n",
       "    </tr>\n",
       "    <tr>\n",
       "      <th>5962</th>\n",
       "      <td>yes, missionary work should be banned.  those ...</td>\n",
       "      <td>0.735690</td>\n",
       "      <td>We should ban missionary work</td>\n",
       "      <td>test</td>\n",
       "    </tr>\n",
       "    <tr>\n",
       "      <th>5963</th>\n",
       "      <td>yes, this should be a criminal offense.  it is...</td>\n",
       "      <td>0.735690</td>\n",
       "      <td>Holocaust denial should be a criminal offence</td>\n",
       "      <td>test</td>\n",
       "    </tr>\n",
       "    <tr>\n",
       "      <th>5964</th>\n",
       "      <td>yes, we should, because anything else simply o...</td>\n",
       "      <td>0.315077</td>\n",
       "      <td>Holocaust denial should be a criminal offence</td>\n",
       "      <td>test</td>\n",
       "    </tr>\n",
       "    <tr>\n",
       "      <th>5965</th>\n",
       "      <td>You can legalize marijuana but not allow its u...</td>\n",
       "      <td>0.217611</td>\n",
       "      <td>We should legalize cannabis</td>\n",
       "      <td>test</td>\n",
       "    </tr>\n",
       "    <tr>\n",
       "      <th>5966</th>\n",
       "      <td>you can not be a good person without a foundation</td>\n",
       "      <td>0.457533</td>\n",
       "      <td>We should adopt atheism</td>\n",
       "      <td>test</td>\n",
       "    </tr>\n",
       "    <tr>\n",
       "      <th>5967</th>\n",
       "      <td>you can not force a religion or lack there of ...</td>\n",
       "      <td>0.682778</td>\n",
       "      <td>We should adopt atheism</td>\n",
       "      <td>test</td>\n",
       "    </tr>\n",
       "    <tr>\n",
       "      <th>5968</th>\n",
       "      <td>you can not tell a person how they should or s...</td>\n",
       "      <td>1.000000</td>\n",
       "      <td>Holocaust denial should be a criminal offence</td>\n",
       "      <td>test</td>\n",
       "    </tr>\n",
       "    <tr>\n",
       "      <th>5969</th>\n",
       "      <td>you can only give someone so many chances. if ...</td>\n",
       "      <td>0.664568</td>\n",
       "      <td>We should abolish the three-strikes laws</td>\n",
       "      <td>test</td>\n",
       "    </tr>\n",
       "    <tr>\n",
       "      <th>5970</th>\n",
       "      <td>You cannot ban missionary work in any country ...</td>\n",
       "      <td>0.918282</td>\n",
       "      <td>We should ban missionary work</td>\n",
       "      <td>test</td>\n",
       "    </tr>\n",
       "    <tr>\n",
       "      <th>5971</th>\n",
       "      <td>you cannot force someone out of denial.</td>\n",
       "      <td>0.770870</td>\n",
       "      <td>Holocaust denial should be a criminal offence</td>\n",
       "      <td>test</td>\n",
       "    </tr>\n",
       "    <tr>\n",
       "      <th>5972</th>\n",
       "      <td>you cannot legally punish people for their opi...</td>\n",
       "      <td>0.459205</td>\n",
       "      <td>Holocaust denial should be a criminal offence</td>\n",
       "      <td>test</td>\n",
       "    </tr>\n",
       "    <tr>\n",
       "      <th>5973</th>\n",
       "      <td>you cannot police what people do and what peop...</td>\n",
       "      <td>0.853681</td>\n",
       "      <td>Holocaust denial should be a criminal offence</td>\n",
       "      <td>test</td>\n",
       "    </tr>\n",
       "    <tr>\n",
       "      <th>5974</th>\n",
       "      <td>you cannot stop kids from praying.  even if yo...</td>\n",
       "      <td>0.441778</td>\n",
       "      <td>We should prohibit school prayer</td>\n",
       "      <td>test</td>\n",
       "    </tr>\n",
       "    <tr>\n",
       "      <th>5975</th>\n",
       "      <td>you cant ban someone from missionary work beca...</td>\n",
       "      <td>0.616585</td>\n",
       "      <td>We should ban missionary work</td>\n",
       "      <td>test</td>\n",
       "    </tr>\n",
       "    <tr>\n",
       "      <th>5976</th>\n",
       "      <td>you can't infringe on someone's freedom of spe...</td>\n",
       "      <td>0.915152</td>\n",
       "      <td>Holocaust denial should be a criminal offence</td>\n",
       "      <td>test</td>\n",
       "    </tr>\n",
       "    <tr>\n",
       "      <th>5977</th>\n",
       "      <td>you can't just do whatever you want, whenever ...</td>\n",
       "      <td>0.262724</td>\n",
       "      <td>We should adopt libertarianism</td>\n",
       "      <td>test</td>\n",
       "    </tr>\n",
       "    <tr>\n",
       "      <th>5978</th>\n",
       "      <td>You can't legalize marijuana until you find a ...</td>\n",
       "      <td>0.520499</td>\n",
       "      <td>We should legalize cannabis</td>\n",
       "      <td>test</td>\n",
       "    </tr>\n",
       "    <tr>\n",
       "      <th>5979</th>\n",
       "      <td>You can't outlaw thought or opinion without th...</td>\n",
       "      <td>0.688286</td>\n",
       "      <td>Holocaust denial should be a criminal offence</td>\n",
       "      <td>test</td>\n",
       "    </tr>\n",
       "    <tr>\n",
       "      <th>5980</th>\n",
       "      <td>you should be able to hire any lawyer you can ...</td>\n",
       "      <td>0.697596</td>\n",
       "      <td>The use of public defenders should be mandatory</td>\n",
       "      <td>test</td>\n",
       "    </tr>\n",
       "    <tr>\n",
       "      <th>5981</th>\n",
       "      <td>you should prohibit the use of public defender...</td>\n",
       "      <td>0.474071</td>\n",
       "      <td>The use of public defenders should be mandatory</td>\n",
       "      <td>test</td>\n",
       "    </tr>\n",
       "    <tr>\n",
       "      <th>5982</th>\n",
       "      <td>young adults spend their entire lives training...</td>\n",
       "      <td>0.594217</td>\n",
       "      <td>We should abolish the Olympic Games</td>\n",
       "      <td>test</td>\n",
       "    </tr>\n",
       "    <tr>\n",
       "      <th>5983</th>\n",
       "      <td>young people will see legalization as permissi...</td>\n",
       "      <td>0.770619</td>\n",
       "      <td>We should legalize cannabis</td>\n",
       "      <td>test</td>\n",
       "    </tr>\n",
       "  </tbody>\n",
       "</table>\n",
       "<p>5984 rows × 4 columns</p>\n",
       "</div>"
      ],
      "text/plain": [
       "                                               argument     label  \\\n",
       "0     6 million people died so to deny the holocaust...  0.738337   \n",
       "1     a ban would only bring problems in gender equa...  0.721728   \n",
       "2     A centralized system of criminal defense would...  0.828674   \n",
       "3     a constantly growing population requires large...  0.732927   \n",
       "4     a country would fall apart under libertarianis...  0.790850   \n",
       "5     a criminal that offends two times is likely to...  0.717313   \n",
       "6     a criminal will think twice about committing a...  1.000000   \n",
       "7             a defendant has a right to defend himself  0.683184   \n",
       "8     a formal school prayer can not properly be con...  0.748915   \n",
       "9     a government should do whatever it needs to to...  0.710451   \n",
       "10    a great deal of money is wasted every year on ...  0.902615   \n",
       "11    a large majority of the world believes in god ...  0.796955   \n",
       "12    a lawyer would provide better representation f...  0.794727   \n",
       "13    a libertarian government is just an excuse to ...  0.614788   \n",
       "14    a libertarian government with provide the lowe...  1.000000   \n",
       "15    a libertarian system allows and ensures that a...  1.000000   \n",
       "16    a lot of private resources are needed for mili...  0.605510   \n",
       "17    a majority of americans identify with a religion.  0.520714   \n",
       "18    a military company ban would only be closing o...  0.344500   \n",
       "19    a non-denominational prayer can be construed a...  0.662632   \n",
       "20    a non-denominational school prayer is about as...  0.591797   \n",
       "21    a person accused of a crime should have the ri...  0.653479   \n",
       "22    a person being accused of a crime deserves the...  0.406987   \n",
       "23    a person has freedom of speech and making this...  0.702661   \n",
       "24    a person has their right to their own opinion ...  0.845077   \n",
       "25    a person should be able to pray to whatever fo...  0.430935   \n",
       "26    a person should be free to choose whatever law...  0.809709   \n",
       "27    a person that denies the holocaust need to be ...  0.738647   \n",
       "28    a person's beliefs are bigger than what they a...  0.856352   \n",
       "29    a person's opinions are the beliefs of that in...  1.000000   \n",
       "...                                                 ...       ...   \n",
       "5954  would eliminate religious persecute and stop s...  0.304218   \n",
       "5955    would ensure that everyone had the same defense  0.858783   \n",
       "5956      would help eliminate overcrowding in prisons.  0.524618   \n",
       "5957     would increase the number of repeat offenders.  0.611818   \n",
       "5958      would lead to a decrease in morals and ethics  0.300238   \n",
       "5959  yes i think that the use of public defenders s...  0.523335   \n",
       "5960  yes, as long as the person agrees and is not r...  0.179581   \n",
       "5961  yes, it's a religious practice and should not ...  0.613268   \n",
       "5962  yes, missionary work should be banned.  those ...  0.735690   \n",
       "5963  yes, this should be a criminal offense.  it is...  0.735690   \n",
       "5964  yes, we should, because anything else simply o...  0.315077   \n",
       "5965  You can legalize marijuana but not allow its u...  0.217611   \n",
       "5966  you can not be a good person without a foundation  0.457533   \n",
       "5967  you can not force a religion or lack there of ...  0.682778   \n",
       "5968  you can not tell a person how they should or s...  1.000000   \n",
       "5969  you can only give someone so many chances. if ...  0.664568   \n",
       "5970  You cannot ban missionary work in any country ...  0.918282   \n",
       "5971            you cannot force someone out of denial.  0.770870   \n",
       "5972  you cannot legally punish people for their opi...  0.459205   \n",
       "5973  you cannot police what people do and what peop...  0.853681   \n",
       "5974  you cannot stop kids from praying.  even if yo...  0.441778   \n",
       "5975  you cant ban someone from missionary work beca...  0.616585   \n",
       "5976  you can't infringe on someone's freedom of spe...  0.915152   \n",
       "5977  you can't just do whatever you want, whenever ...  0.262724   \n",
       "5978  You can't legalize marijuana until you find a ...  0.520499   \n",
       "5979  You can't outlaw thought or opinion without th...  0.688286   \n",
       "5980  you should be able to hire any lawyer you can ...  0.697596   \n",
       "5981  you should prohibit the use of public defender...  0.474071   \n",
       "5982  young adults spend their entire lives training...  0.594217   \n",
       "5983  young people will see legalization as permissi...  0.770619   \n",
       "\n",
       "                                                topic   set  \n",
       "0       Holocaust denial should be a criminal offence  test  \n",
       "1                  We should prohibit women in combat  test  \n",
       "2     The use of public defenders should be mandatory  test  \n",
       "3                       We should ban factory farming  test  \n",
       "4                      We should adopt libertarianism  test  \n",
       "5            We should abolish the three-strikes laws  test  \n",
       "6            We should abolish the three-strikes laws  test  \n",
       "7     The use of public defenders should be mandatory  test  \n",
       "8                    We should prohibit school prayer  test  \n",
       "9                      We should ban targeted killing  test  \n",
       "10                        We should legalize cannabis  test  \n",
       "11                            We should adopt atheism  test  \n",
       "12    The use of public defenders should be mandatory  test  \n",
       "13                     We should adopt libertarianism  test  \n",
       "14                     We should adopt libertarianism  test  \n",
       "15                     We should adopt libertarianism  test  \n",
       "16           We should ban private military companies  test  \n",
       "17                            We should adopt atheism  test  \n",
       "18           We should ban private military companies  test  \n",
       "19                   We should prohibit school prayer  test  \n",
       "20                   We should prohibit school prayer  test  \n",
       "21    The use of public defenders should be mandatory  test  \n",
       "22    The use of public defenders should be mandatory  test  \n",
       "23      Holocaust denial should be a criminal offence  test  \n",
       "24      Holocaust denial should be a criminal offence  test  \n",
       "25                            We should adopt atheism  test  \n",
       "26    The use of public defenders should be mandatory  test  \n",
       "27      Holocaust denial should be a criminal offence  test  \n",
       "28                   We should prohibit school prayer  test  \n",
       "29      Holocaust denial should be a criminal offence  test  \n",
       "...                                               ...   ...  \n",
       "5954                          We should adopt atheism  test  \n",
       "5955  The use of public defenders should be mandatory  test  \n",
       "5956                      We should legalize cannabis  test  \n",
       "5957         We should abolish the three-strikes laws  test  \n",
       "5958                          We should adopt atheism  test  \n",
       "5959  The use of public defenders should be mandatory  test  \n",
       "5960                          We should adopt atheism  test  \n",
       "5961                 We should prohibit school prayer  test  \n",
       "5962                    We should ban missionary work  test  \n",
       "5963    Holocaust denial should be a criminal offence  test  \n",
       "5964    Holocaust denial should be a criminal offence  test  \n",
       "5965                      We should legalize cannabis  test  \n",
       "5966                          We should adopt atheism  test  \n",
       "5967                          We should adopt atheism  test  \n",
       "5968    Holocaust denial should be a criminal offence  test  \n",
       "5969         We should abolish the three-strikes laws  test  \n",
       "5970                    We should ban missionary work  test  \n",
       "5971    Holocaust denial should be a criminal offence  test  \n",
       "5972    Holocaust denial should be a criminal offence  test  \n",
       "5973    Holocaust denial should be a criminal offence  test  \n",
       "5974                 We should prohibit school prayer  test  \n",
       "5975                    We should ban missionary work  test  \n",
       "5976    Holocaust denial should be a criminal offence  test  \n",
       "5977                   We should adopt libertarianism  test  \n",
       "5978                      We should legalize cannabis  test  \n",
       "5979    Holocaust denial should be a criminal offence  test  \n",
       "5980  The use of public defenders should be mandatory  test  \n",
       "5981  The use of public defenders should be mandatory  test  \n",
       "5982              We should abolish the Olympic Games  test  \n",
       "5983                      We should legalize cannabis  test  \n",
       "\n",
       "[5984 rows x 4 columns]"
      ]
     },
     "execution_count": 46,
     "metadata": {},
     "output_type": "execute_result"
    }
   ],
   "source": []
  },
  {
   "cell_type": "code",
   "execution_count": 48,
   "metadata": {},
   "outputs": [
    {
     "data": {
      "text/plain": [
       "(30166, 1052, 5375, 5298)"
      ]
     },
     "execution_count": 48,
     "metadata": {},
     "output_type": "execute_result"
    }
   ],
   "source": [
    "len(gretz), len(ukp), len(swanson), len(toledo)"
   ]
  },
  {
   "cell_type": "code",
   "execution_count": 76,
   "metadata": {},
   "outputs": [
    {
     "name": "stdout",
     "output_type": "stream",
     "text": [
      "22\n",
      "4\n",
      "32\n",
      "70\n"
     ]
    }
   ],
   "source": [
    "datasets = [toledo, swanson, ukp, gretz]\n",
    "toledo.name = \"toeldo\"\n",
    "swanson.name = \"swanson\"\n",
    "ukp.name = \"ukp\"\n",
    "gretz.name = \"gretz\"\n",
    "for dataset in datasets:\n",
    "    print(len(dataset[\"topic\"].unique()))"
   ]
  },
  {
   "cell_type": "code",
   "execution_count": 82,
   "metadata": {},
   "outputs": [],
   "source": [
    "# writing a function to redistribute the train-dev-test splits based on topic \n",
    "def topic_splitter(datasets, seed):\n",
    "    \n",
    "    for dataset in datasets:\n",
    "\n",
    "        ds_topic_list = dataset[\"topic\"].unique()\n",
    "        random.Random(seed).shuffle(ds_topic_list)\n",
    "        if dataset.name == \"swanson\":\n",
    "            ratio = 1\n",
    "        else:\n",
    "            ratio = int(len(ds_topic_list)/5)\n",
    "    \n",
    "        ds_topic_test = ds_topic_list[:ratio]\n",
    "        ds_topic_dev = ds_topic_list[ratio:2*ratio]\n",
    "        ds_topic_train = ds_topic_list[2*ratio:]\n",
    "   \n",
    "        dataset.loc[dataset[\"topic\"].isin(ds_topic_train)][\"set\"] = \"train\"\n",
    "        dataset.loc[dataset[\"topic\"].isin(ds_topic_dev)][\"set\"] = \"dev\"\n",
    "        dataset.loc[dataset[\"topic\"].isin(ds_topic_test)][\"set\"] = \"test\"\n",
    "    \n",
    "    return datasets"
   ]
  },
  {
   "cell_type": "code",
   "execution_count": 83,
   "metadata": {},
   "outputs": [
    {
     "name": "stdout",
     "output_type": "stream",
     "text": [
      "toeldo\n",
      "5298\n",
      "14\n",
      "4\n",
      "4\n"
     ]
    },
    {
     "name": "stderr",
     "output_type": "stream",
     "text": [
      "C:\\Users\\Siddharth\\Anaconda3\\lib\\site-packages\\ipykernel_launcher.py:22: SettingWithCopyWarning: \n",
      "A value is trying to be set on a copy of a slice from a DataFrame.\n",
      "Try using .loc[row_indexer,col_indexer] = value instead\n",
      "\n",
      "See the caveats in the documentation: http://pandas.pydata.org/pandas-docs/stable/indexing.html#indexing-view-versus-copy\n",
      "C:\\Users\\Siddharth\\Anaconda3\\lib\\site-packages\\ipykernel_launcher.py:23: SettingWithCopyWarning: \n",
      "A value is trying to be set on a copy of a slice from a DataFrame.\n",
      "Try using .loc[row_indexer,col_indexer] = value instead\n",
      "\n",
      "See the caveats in the documentation: http://pandas.pydata.org/pandas-docs/stable/indexing.html#indexing-view-versus-copy\n",
      "C:\\Users\\Siddharth\\Anaconda3\\lib\\site-packages\\ipykernel_launcher.py:24: SettingWithCopyWarning: \n",
      "A value is trying to be set on a copy of a slice from a DataFrame.\n",
      "Try using .loc[row_indexer,col_indexer] = value instead\n",
      "\n",
      "See the caveats in the documentation: http://pandas.pydata.org/pandas-docs/stable/indexing.html#indexing-view-versus-copy\n"
     ]
    },
    {
     "name": "stdout",
     "output_type": "stream",
     "text": [
      "5298\n",
      "swanson\n",
      "5375\n",
      "2\n",
      "1\n",
      "1\n",
      "5375\n",
      "ukp\n",
      "1052\n",
      "20\n",
      "6\n",
      "6\n",
      "1052\n",
      "gretz\n",
      "30166\n",
      "42\n",
      "14\n",
      "14\n",
      "30166\n"
     ]
    }
   ],
   "source": [
    "datasets1 = topic_splitter(datasets, seed=4)"
   ]
  },
  {
   "cell_type": "code",
   "execution_count": null,
   "metadata": {},
   "outputs": [],
   "source": []
  }
 ],
 "metadata": {
  "kernelspec": {
   "display_name": "Python 3",
   "language": "python",
   "name": "python3"
  },
  "language_info": {
   "codemirror_mode": {
    "name": "ipython",
    "version": 3
   },
   "file_extension": ".py",
   "mimetype": "text/x-python",
   "name": "python",
   "nbconvert_exporter": "python",
   "pygments_lexer": "ipython3",
   "version": "3.7.3"
  }
 },
 "nbformat": 4,
 "nbformat_minor": 4
}
